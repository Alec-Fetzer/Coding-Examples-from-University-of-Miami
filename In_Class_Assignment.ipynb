{
  "nbformat": 4,
  "nbformat_minor": 0,
  "metadata": {
    "colab": {
      "provenance": [],
      "authorship_tag": "ABX9TyPVcVLWCPTFHOL2lF5MYpDB",
      "include_colab_link": true
    },
    "kernelspec": {
      "name": "python3",
      "display_name": "Python 3"
    },
    "language_info": {
      "name": "python"
    }
  },
  "cells": [
    {
      "cell_type": "markdown",
      "metadata": {
        "id": "view-in-github",
        "colab_type": "text"
      },
      "source": [
        "<a href=\"https://colab.research.google.com/github/Alec-Fetzer/Coding-Examples-from-University-of-Miami/blob/main/In_Class_Assignment.ipynb\" target=\"_parent\"><img src=\"https://colab.research.google.com/assets/colab-badge.svg\" alt=\"Open In Colab\"/></a>"
      ]
    },
    {
      "cell_type": "code",
      "execution_count": null,
      "metadata": {
        "colab": {
          "base_uri": "https://localhost:8080/"
        },
        "id": "DsBaRAI1x4MR",
        "outputId": "f9fc4040-a66a-4d07-96ea-65df8112fcf0"
      },
      "outputs": [
        {
          "output_type": "stream",
          "name": "stdout",
          "text": [
            "244.92000000000002\n"
          ]
        }
      ],
      "source": [
        "r = 3 # radius of cylinder\n",
        "pi = 3.14  # abbreviated verson of the number pi\n",
        "h = 10    # height of cylinder\n",
        "# Calculate surface area of cylinder\n",
        "area = (2 * pi * r ** 2) + (2 * pi * r * h)\n",
        "# Display area on the screen\n",
        "print(area)"
      ]
    },
    {
      "cell_type": "markdown",
      "source": [
        "Rock, Paper, Scissors"
      ],
      "metadata": {
        "id": "Y1btTqAVTAZF"
      }
    },
    {
      "cell_type": "code",
      "source": [
        "p1 = input('choose rock ,paper, scissors: ')\n",
        "p2 = input('choose rock , paper, scissors: ')\n",
        "#using Compound Boolean Operators\n",
        "if p1 == p2:\n",
        "  print('draw')\n",
        "# Use the Boolean operators\n",
        "elif (p1 == 'rock' and p2 == 'scissors') or (p1 == 'scissors' and p2 == 'paper') or (p1 == 'paper' and p2 == 'rock'):\n",
        "  print('p1 Wins')\n",
        "else:\n",
        "  print('p2 Wins')\n"
      ],
      "metadata": {
        "colab": {
          "base_uri": "https://localhost:8080/"
        },
        "id": "N_0R5ytkSMah",
        "outputId": "03136019-c0e5-4a10-f807-1a31007eb1d5"
      },
      "execution_count": null,
      "outputs": [
        {
          "output_type": "stream",
          "name": "stdout",
          "text": [
            "choose rock ,paper, scissors: paper\n",
            "choose rock , paper, scissors: rock\n",
            "p1 Wins\n"
          ]
        }
      ]
    },
    {
      "cell_type": "markdown",
      "source": [
        "Creating a Calculator"
      ],
      "metadata": {
        "id": "FdbBNuID9hMG"
      }
    },
    {
      "cell_type": "code",
      "source": [
        "n1 = float(input('Enter number 1: '))\n",
        "n2 = float(input('Enter number 2:'))\n",
        "symbol = input('Choose op:')\n",
        "if symbol == '/':\n",
        "  print(n1 / n2)\n",
        "elif symbol == '*':\n",
        "  print(n1 * n2)\n",
        "elif symbol == '+':\n",
        "  print (n1 + n2)\n",
        "elif symbol == '-':\n",
        "  print (n1 - n2)\n",
        "elif symbol == '**':\n",
        "  print( n1 ** n2)"
      ],
      "metadata": {
        "colab": {
          "base_uri": "https://localhost:8080/"
        },
        "id": "xx3Sh_vJ9jo9",
        "outputId": "a6dff8a5-446e-445a-a2bf-7c804f95b50a"
      },
      "execution_count": null,
      "outputs": [
        {
          "output_type": "stream",
          "name": "stdout",
          "text": [
            "Enter number 1: 10\n",
            "Enter number 2:4\n",
            "Choose op:*\n",
            "40.0\n"
          ]
        }
      ]
    },
    {
      "cell_type": "markdown",
      "source": [
        "Rock-Pape-Scissors using 'While'"
      ],
      "metadata": {
        "id": "SAQCbYJo9So4"
      }
    },
    {
      "cell_type": "code",
      "source": [
        "c = input ('Would you like to play rock-paper-scissors?')\n",
        "\n",
        "while c == 'Yes':\n",
        "  p1 = input('choose rock ,paper, scissors: ')\n",
        "  p2 = input('choose rock ,paper, scissors: ')\n",
        "\n",
        "  if p1 == p2:\n",
        "    print('draw')\n",
        "  # Use the Boolean operators\n",
        "  elif (p1 == 'rock' and p2 == 'scissors') or (p1 == 'scissors' and p2 == 'paper') or (p1 == 'paper' and p2 == 'rock'):\n",
        "    print('p1 Wins')\n",
        "  else:\n",
        "    print('p2 Wins')\n",
        "\n",
        "  c = input ('Would you like to play rock-paper-scissors?')\n",
        "print ('Have a nice day!')"
      ],
      "metadata": {
        "colab": {
          "base_uri": "https://localhost:8080/"
        },
        "id": "VR52TtD49Vxb",
        "outputId": "a7a08184-a3dd-4bee-f9f0-b32788e570ef"
      },
      "execution_count": null,
      "outputs": [
        {
          "output_type": "stream",
          "name": "stdout",
          "text": [
            "Would you like to play rock-paper-scissors?Yes\n",
            "choose rock ,paper, scissors: Rock\n",
            "choose rock ,paper, scissors: paper\n",
            "p2 Wins\n",
            "Would you like to play rock-paper-scissors?No\n",
            "Have a nice day!\n"
          ]
        }
      ]
    },
    {
      "cell_type": "markdown",
      "source": [
        "Parking Garage Problem (Combining Conditions with Iterations)"
      ],
      "metadata": {
        "id": "WKPJ9K-GEMwP"
      }
    },
    {
      "cell_type": "code",
      "source": [
        "flat_rate = 5\n",
        "for t in range(1,9,1):\n",
        "  charge = flat_rate + 2.5 * t\n",
        "  if charge < 10:\n",
        "    charge = 10\n",
        "  elif charge > 20:\n",
        "    charge = 20\n",
        "  print(t,charge)"
      ],
      "metadata": {
        "colab": {
          "base_uri": "https://localhost:8080/"
        },
        "id": "vgWNv25MDz1h",
        "outputId": "251c99f8-6b7e-4a78-b2ab-e91dab72cd95"
      },
      "execution_count": null,
      "outputs": [
        {
          "output_type": "stream",
          "name": "stdout",
          "text": [
            "1 10\n",
            "2 10.0\n",
            "3 12.5\n",
            "4 15.0\n",
            "5 17.5\n",
            "6 20.0\n",
            "7 20\n",
            "8 20\n"
          ]
        }
      ]
    },
    {
      "cell_type": "markdown",
      "source": [
        "Movie Theater - Initial Problem (Using 'For')"
      ],
      "metadata": {
        "id": "LQ18uOW2QAlb"
      }
    },
    {
      "cell_type": "code",
      "source": [
        "ticket = 10\n",
        "fixed = 200\n",
        "standardAttendees = 20\n",
        "for ad in range (0, 201, 25):\n",
        "  profit = 10 * (standardAttendees + 2 * round(ad ** .5)) - fixed - ad\n",
        "  print (ad , profit)"
      ],
      "metadata": {
        "colab": {
          "base_uri": "https://localhost:8080/"
        },
        "id": "wZmB_U09MvI3",
        "outputId": "3d7ca052-c51c-4212-f20b-4e737c1f44fb"
      },
      "execution_count": null,
      "outputs": [
        {
          "output_type": "stream",
          "name": "stdout",
          "text": [
            "0 0\n",
            "25 75\n",
            "50 90\n",
            "75 105\n",
            "100 100\n",
            "125 95\n",
            "150 90\n",
            "175 85\n",
            "200 80\n"
          ]
        }
      ]
    },
    {
      "cell_type": "markdown",
      "source": [
        "Movie Theater - Initial Problem (Using 'While')\n"
      ],
      "metadata": {
        "id": "VJiZD-F5SPuW"
      }
    },
    {
      "cell_type": "code",
      "source": [
        "ticket = 10\n",
        "fixed = 200\n",
        "stda = 20\n",
        "\n",
        "ad = 0\n",
        "while ad < 201:\n",
        "  profit = 10 * (standardAttendees + 2 * round(ad ** .5)) - fixed - ad\n",
        "  print (ad , profit)\n",
        "  ad = ad + 25"
      ],
      "metadata": {
        "colab": {
          "base_uri": "https://localhost:8080/"
        },
        "id": "99tiCZ70STl4",
        "outputId": "c69acd46-7825-4e0d-b443-0ba497524b09"
      },
      "execution_count": null,
      "outputs": [
        {
          "output_type": "stream",
          "name": "stdout",
          "text": [
            "0 0\n",
            "25 75\n",
            "50 90\n",
            "75 105\n",
            "100 100\n",
            "125 95\n",
            "150 90\n",
            "175 85\n",
            "200 80\n"
          ]
        }
      ]
    },
    {
      "cell_type": "markdown",
      "source": [
        "Creating a List"
      ],
      "metadata": {
        "id": "nYAg0BTGYF8l"
      }
    },
    {
      "cell_type": "code",
      "source": [
        "L=[]\n",
        "item = int(input('Give a value:'))\n",
        "while item != 0:\n",
        "  L.append(item)\n",
        "  item = int(input('Give another value:'))\n",
        "print(L)"
      ],
      "metadata": {
        "colab": {
          "base_uri": "https://localhost:8080/"
        },
        "id": "pdThVVG6YFYQ",
        "outputId": "f1401d3b-73e1-4258-db34-f33f41ee1c17"
      },
      "execution_count": null,
      "outputs": [
        {
          "output_type": "stream",
          "name": "stdout",
          "text": [
            "Give a value:10\n",
            "Give another value:11\n",
            "Give another value:15\n",
            "Give another value:0\n",
            "[10, 11, 15]\n"
          ]
        }
      ]
    },
    {
      "cell_type": "markdown",
      "source": [
        "4-Loop Example (Key Value Pair)"
      ],
      "metadata": {
        "id": "68mJMOxThajv"
      }
    },
    {
      "cell_type": "code",
      "source": [
        "names = ['Jan', 'Feb', 'Mar', 'Apr', 'May', 'Jun', 'Jul', 'Aug', 'Sep', 'Oct', 'Nov', 'Dec']\n",
        "numbers = [1, 2, 3, 4, 5, 6, 7, 8, 9, 10, 11, 12]\n",
        "months = {}\n",
        "for i in range(12):\n",
        "  months[i+1] = names [i]\n",
        "months"
      ],
      "metadata": {
        "colab": {
          "base_uri": "https://localhost:8080/"
        },
        "id": "Fw5GbWCmhZtq",
        "outputId": "fb950525-e39e-4fad-eecd-e695d8fd3378"
      },
      "execution_count": null,
      "outputs": [
        {
          "output_type": "execute_result",
          "data": {
            "text/plain": [
              "{1: 'Jan',\n",
              " 2: 'Feb',\n",
              " 3: 'Mar',\n",
              " 4: 'Apr',\n",
              " 5: 'May',\n",
              " 6: 'Jun',\n",
              " 7: 'Jul',\n",
              " 8: 'Aug',\n",
              " 9: 'Sep',\n",
              " 10: 'Oct',\n",
              " 11: 'Nov',\n",
              " 12: 'Dec'}"
            ]
          },
          "metadata": {},
          "execution_count": 1
        }
      ]
    },
    {
      "cell_type": "markdown",
      "source": [
        "House Hunting"
      ],
      "metadata": {
        "id": "ULYEXcZGZwX2"
      }
    },
    {
      "cell_type": "code",
      "source": [
        "# Define the variables\n",
        "total_cost = float(input(\"Enter the cost of the house: \"))\n",
        "portion_down_payment = 0.25  # Down payment is 25% of the total cost\n",
        "current_savings = 0.0  # Initial savings\n",
        "annual_return = 0.04  # 4% annual return on investment\n",
        "annual_salary = float(input(\"Enter your annual salary: \"))\n",
        "portion_saved = float(input(\"Enter the portion of salary to be saved each month (decimal): \"))\n",
        "\n",
        "# Calculate the down payment needed\n",
        "down_payment = total_cost * portion_down_payment\n",
        "\n",
        "# Initialize variables for the loop\n",
        "months = 0\n",
        "\n",
        "# Loop until the current savings is enough for the down payment\n",
        "while current_savings < down_payment:\n",
        "    # Add monthly investment returns and monthly savings to current savings\n",
        "    monthly_return = current_savings * (annual_return / 12)\n",
        "    monthly_salary_saving = (annual_salary / 12) * portion_saved\n",
        "    current_savings += monthly_return + monthly_salary_saving\n",
        "\n",
        "    # Increment the number of months\n",
        "    months += 1\n",
        "\n",
        "# Output the result\n",
        "print(f\"Number of months to save for the down payment: {months}\")\n",
        "\n"
      ],
      "metadata": {
        "colab": {
          "base_uri": "https://localhost:8080/"
        },
        "id": "Na7gxl4dWu-J",
        "outputId": "1c4dab01-4a47-4f0c-f0af-4ba4ca8f8911"
      },
      "execution_count": null,
      "outputs": [
        {
          "output_type": "stream",
          "name": "stdout",
          "text": [
            "Enter the cost of the house: 1000000\n",
            "Enter your annual salary: 100000\n",
            "Enter the portion of salary to be saved each month (decimal): .03\n",
            "Number of months to save for the down payment: 441\n"
          ]
        }
      ]
    },
    {
      "cell_type": "markdown",
      "source": [
        "House Hunting (Semi Annual Raise)"
      ],
      "metadata": {
        "id": "w59n2qtddc_-"
      }
    },
    {
      "cell_type": "code",
      "source": [
        "# Define the variables\n",
        "total_cost = float(input(\"Enter the cost of the house: \"))\n",
        "portion_down_payment = 0.25  # Down payment is 25% of the total cost\n",
        "current_savings = 0.0  # Initial savings\n",
        "annual_return = 0.04  # 4% annual return on investment\n",
        "annual_salary = float(input(\"Enter your annual salary: \"))\n",
        "portion_saved = float(input(\"Enter the portion of salary to be saved each month (decimal): \"))\n",
        "semi_annual_raise = float(input(\"Enter the semi-annual salary raise (as a decimal): \"))\n",
        "\n",
        "# Calculate the down payment needed\n",
        "down_payment = total_cost * portion_down_payment\n",
        "\n",
        "# Initialize variables for the loop\n",
        "months = 0\n",
        "\n",
        "# Loop until the current savings is enough for the down payment\n",
        "while current_savings < down_payment:\n",
        "    # Add monthly investment returns and monthly savings to current savings\n",
        "    monthly_return = current_savings * (annual_return / 12)\n",
        "    monthly_salary_saving = (annual_salary / 12) * portion_saved\n",
        "    current_savings += monthly_return + monthly_salary_saving\n",
        "\n",
        "    # Increment the number of months\n",
        "    months += 1\n",
        "\n",
        "    # Apply the semi-annual raise every 6 months\n",
        "    if months % 6 == 0:\n",
        "        annual_salary += annual_salary * semi_annual_raise\n",
        "\n",
        "# Output the result\n",
        "print(f\"Number of months to save for the down payment: {months}\")\n"
      ],
      "metadata": {
        "colab": {
          "base_uri": "https://localhost:8080/"
        },
        "id": "5ucD_tQEdaq5",
        "outputId": "347f11a3-1504-42bc-941c-4c01048904bf"
      },
      "execution_count": null,
      "outputs": [
        {
          "name": "stdout",
          "output_type": "stream",
          "text": [
            "Enter the cost of the house: 2000000\n",
            "Enter your annual salary: 100000\n",
            "Enter the portion of salary to be saved each month (decimal): .20\n"
          ]
        }
      ]
    },
    {
      "cell_type": "markdown",
      "source": [
        "Range Checker"
      ],
      "metadata": {
        "id": "LbIAPoF4hBgl"
      }
    },
    {
      "cell_type": "code",
      "source": [
        "def range_check (num,low,high):\n",
        "  if low <= num and num <= high:\n",
        "    return True\n",
        "  else:\n",
        "    return False"
      ],
      "metadata": {
        "id": "OXpy-4M5hBFf"
      },
      "execution_count": null,
      "outputs": []
    },
    {
      "cell_type": "code",
      "source": [
        "print(range_check(2,1,3))"
      ],
      "metadata": {
        "colab": {
          "base_uri": "https://localhost:8080/"
        },
        "id": "dmtRF0bNhPEo",
        "outputId": "3c62bcb3-780f-499b-e4de-28ac725e405b"
      },
      "execution_count": null,
      "outputs": [
        {
          "output_type": "stream",
          "name": "stdout",
          "text": [
            "True\n"
          ]
        }
      ]
    },
    {
      "cell_type": "markdown",
      "source": [
        "Parking Garage -- Initial Problem"
      ],
      "metadata": {
        "id": "m-6-GvsxMdWz"
      }
    },
    {
      "cell_type": "code",
      "source": [
        "def calcFee (hours,decimals=2):\n",
        "  fee = 5 + hours * 2.5\n",
        "  fee = round(fee,decimals)\n",
        "  return fee\n",
        "\n",
        "def displayFee (fee):\n",
        "  print('Your parking fee is $',fee)\n",
        "\n",
        "#or displayFee(calcFee(int(input('Enter number of hours:'))))\n",
        "h = float(input('Enter number of hours:'))\n",
        "fee = calcFee(h)\n",
        "displayFee(fee)\n",
        "#none is an indicator that you may have forgotten to put a return statement\n"
      ],
      "metadata": {
        "colab": {
          "base_uri": "https://localhost:8080/"
        },
        "id": "bkZ_-9dIOS-a",
        "outputId": "c6b5a0f8-866e-4933-cbda-e93f9040159f"
      },
      "execution_count": null,
      "outputs": [
        {
          "output_type": "stream",
          "name": "stdout",
          "text": [
            "Enter number of hours:5\n",
            "Your parking fee is $ 17.5\n"
          ]
        }
      ]
    },
    {
      "cell_type": "markdown",
      "source": [
        "RECURSION\n"
      ],
      "metadata": {
        "id": "B-OM4pFLYf8d"
      }
    },
    {
      "cell_type": "code",
      "source": [
        "def rev(s):\n",
        "  if len(s) == 1:\n",
        "    return s\n",
        "  else:\n",
        "    return s[-1]+rev(s[:-1])\n",
        "    return rev(s[1:]) + s[0]\n",
        "    return s[-1] + rev(s[1:-1]) + s[0]\n",
        "\n",
        "print(rev('halloween'))\n",
        "\n",
        "\n"
      ],
      "metadata": {
        "colab": {
          "base_uri": "https://localhost:8080/"
        },
        "id": "cNv_XYv1U4Rz",
        "outputId": "453125f1-2369-47b4-8b7a-082109c815c5"
      },
      "execution_count": null,
      "outputs": [
        {
          "output_type": "stream",
          "name": "stdout",
          "text": [
            "neewollah\n"
          ]
        }
      ]
    },
    {
      "cell_type": "markdown",
      "source": [
        "\n",
        "##$\\frac{\\sum_i w_i L_i}{sum_i w_i}$\n",
        "\n",
        "Step 1: list of products: $\\text{res} = [w_0*L_0, w_1*L_1,...]$\n",
        "Step 2: Sum up lists $\\text{res}$, $\\text{w}$ and divide\n",
        "\n",
        "Function that calculates the weighted average of a list L, given weights w. The function should handle the following exception error types:\n",
        "- ZeroDivisionError (returns empty list)\n",
        "- Type Error (returns empty list)\n",
        "- Any other uknown error (returns float('nan')\n",
        "\n",
        "def wAvg(L,W)"
      ],
      "metadata": {
        "id": "B94_jzyfw701"
      }
    },
    {
      "cell_type": "code",
      "source": [
        "def wAvg(L,W):\n",
        "  res = []\n",
        "  try:\n",
        "    for i in range(len(L)):\n",
        "      res.append(L[i] * W[i])\n",
        "    return sum(res) / sum(W)\n",
        "  except ZeroDivisionError:\n",
        "    print('Division by Zero')\n",
        "    return []\n",
        "  except TypeError:\n",
        "    print('Non Numerical objects found')\n",
        "    return []\n",
        "  except Exception as e:\n",
        "    print(f'Unknown Error: {e}')\n",
        "    return float('nan')\n",
        "\n",
        "\n",
        "wAvg([1,2,3],[])\n"
      ],
      "metadata": {
        "colab": {
          "base_uri": "https://localhost:8080/"
        },
        "id": "bzO9gYm3xXG-",
        "outputId": "fae3121d-1f0b-4252-a77d-916adf70e084"
      },
      "execution_count": null,
      "outputs": [
        {
          "output_type": "stream",
          "name": "stdout",
          "text": [
            "Unknown Error: list index out of range\n"
          ]
        },
        {
          "output_type": "execute_result",
          "data": {
            "text/plain": [
              "nan"
            ]
          },
          "metadata": {},
          "execution_count": 10
        }
      ]
    },
    {
      "cell_type": "markdown",
      "source": [
        "1.A: Define a class named Student. Student has two attributes (name & number)"
      ],
      "metadata": {
        "id": "_hnuhulGq5aK"
      }
    },
    {
      "cell_type": "markdown",
      "source": [
        "1.B: Enroll in Classes.\n"
      ],
      "metadata": {
        "id": "V_rdekZOrGBK"
      }
    },
    {
      "cell_type": "code",
      "source": [
        "class Student:\n",
        "  def  __init__(self, name, number):\n",
        "    self.name = name\n",
        "    self.number = number\n",
        "    self.courses = []\n",
        "\n",
        "  def set_name(self,newName):\n",
        "    self.name = newName\n",
        "\n",
        "  def get_name(self):\n",
        "    return self.name\n",
        "\n",
        "  def enroll(self,course):\n",
        "    if course not in self.courses:\n",
        "      self.courses.append(course)\n",
        "    else:\n",
        "      print('You have already enrolled in this {course}')\n",
        "\n",
        "  def get_courses(self):\n",
        "    return self.courses"
      ],
      "metadata": {
        "id": "N4SmKCXIrKPG"
      },
      "execution_count": 1,
      "outputs": []
    },
    {
      "cell_type": "code",
      "source": [
        "j = Student('James Bond','007',)\n",
        "c = Student('Clark Kent', '333',)\n",
        "\n",
        "j.number"
      ],
      "metadata": {
        "colab": {
          "base_uri": "https://localhost:8080/",
          "height": 35
        },
        "id": "FZLXZfsEsNM2",
        "outputId": "16b62a9e-d10e-43aa-fe77-931fb028ef46"
      },
      "execution_count": 5,
      "outputs": [
        {
          "output_type": "execute_result",
          "data": {
            "text/plain": [
              "'007'"
            ],
            "application/vnd.google.colaboratory.intrinsic+json": {
              "type": "string"
            }
          },
          "metadata": {},
          "execution_count": 5
        }
      ]
    },
    {
      "cell_type": "code",
      "source": [
        "j.enroll('BTE 430')"
      ],
      "metadata": {
        "id": "pI_NQf-ys-Jr"
      },
      "execution_count": null,
      "outputs": []
    },
    {
      "cell_type": "code",
      "source": [
        "j.get_courses()"
      ],
      "metadata": {
        "colab": {
          "base_uri": "https://localhost:8080/"
        },
        "id": "2drExjxBtD47",
        "outputId": "08caa67c-c7a1-469c-a645-ada67cb61af5"
      },
      "execution_count": 7,
      "outputs": [
        {
          "output_type": "execute_result",
          "data": {
            "text/plain": [
              "[]"
            ]
          },
          "metadata": {},
          "execution_count": 7
        }
      ]
    },
    {
      "cell_type": "code",
      "source": [
        "Student.get_name(c)"
      ],
      "metadata": {
        "colab": {
          "base_uri": "https://localhost:8080/",
          "height": 35
        },
        "id": "ONWpOxr8uDki",
        "outputId": "07dd4708-0d6f-4c0c-b3ab-c57da742c6b5"
      },
      "execution_count": 8,
      "outputs": [
        {
          "output_type": "execute_result",
          "data": {
            "text/plain": [
              "'Clark Kent'"
            ],
            "application/vnd.google.colaboratory.intrinsic+json": {
              "type": "string"
            }
          },
          "metadata": {},
          "execution_count": 8
        }
      ]
    },
    {
      "cell_type": "code",
      "source": [
        "c.get_name()"
      ],
      "metadata": {
        "colab": {
          "base_uri": "https://localhost:8080/",
          "height": 35
        },
        "id": "EsK3PnAduJWE",
        "outputId": "366c5783-c588-4dcd-c7b2-8e9891bc7ad4"
      },
      "execution_count": 9,
      "outputs": [
        {
          "output_type": "execute_result",
          "data": {
            "text/plain": [
              "'Clark Kent'"
            ],
            "application/vnd.google.colaboratory.intrinsic+json": {
              "type": "string"
            }
          },
          "metadata": {},
          "execution_count": 9
        }
      ]
    },
    {
      "cell_type": "code",
      "source": [
        "j.set_name('John')\n",
        "j.get_name()"
      ],
      "metadata": {
        "colab": {
          "base_uri": "https://localhost:8080/",
          "height": 35
        },
        "id": "zpmzl2_euNUE",
        "outputId": "e1f64221-a021-4f3b-d468-1c9ea3ecde2b"
      },
      "execution_count": 10,
      "outputs": [
        {
          "output_type": "execute_result",
          "data": {
            "text/plain": [
              "'John'"
            ],
            "application/vnd.google.colaboratory.intrinsic+json": {
              "type": "string"
            }
          },
          "metadata": {},
          "execution_count": 10
        }
      ]
    },
    {
      "cell_type": "code",
      "source": [
        "j.name = 'Bob'\n",
        "j.get_name()"
      ],
      "metadata": {
        "colab": {
          "base_uri": "https://localhost:8080/",
          "height": 35
        },
        "id": "xdnyfZ6BuUmk",
        "outputId": "3161a6fd-c3ac-4e27-a194-8e936c4dc361"
      },
      "execution_count": 11,
      "outputs": [
        {
          "output_type": "execute_result",
          "data": {
            "text/plain": [
              "'Bob'"
            ],
            "application/vnd.google.colaboratory.intrinsic+json": {
              "type": "string"
            }
          },
          "metadata": {},
          "execution_count": 11
        }
      ]
    }
  ]
}